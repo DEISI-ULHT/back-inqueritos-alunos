{
 "cells": [
  {
   "cell_type": "code",
   "execution_count": null,
   "id": "1be3f835",
   "metadata": {},
   "outputs": [],
   "source": [
    "pip install requests\n",
    "pip install bs4\n",
    "pip install urllib3\n",
    "pip install qrcode\n"
   ]
  },
  {
   "cell_type": "code",
   "execution_count": null,
   "id": "8206122b",
   "metadata": {},
   "outputs": [],
   "source": [
    "import requests\n",
    "from bs4 import BeautifulSoup\n",
    "import urllib3\n",
    "import os\n",
    "import qrcode\n",
    "\n",
    "# Função que gera um png com um QRCode para um url\n",
    "\n",
    "def gera_qrcode(url, nome_ficheiro):\n",
    "\n",
    "    # Criar instância de QRcode\n",
    "    qr = qrcode.QRCode(\n",
    "        version=1, \n",
    "        error_correction=qrcode.constants.ERROR_CORRECT_H, \n",
    "        box_size=10, \n",
    "        border=4\n",
    "    )\n",
    "\n",
    "    # Adicionar os dados ao QRcode\n",
    "    qr.add_data(url)\n",
    "    qr.make(fit=True)\n",
    "\n",
    "    # Criar imagem do QRcode\n",
    "    qr_img = qr.make_image(fill_color=\"black\", back_color=\"white\")\n",
    "\n",
    "    # Grava a imagem\n",
    "    qr_img.save(os.path.join('qrcodes', nome_ficheiro))\n",
    "\n",
    "# Desativa alerta de verificação SSL\n",
    "urllib3.disable_warnings(urllib3.exceptions.InsecureRequestWarning)\n",
    "\n",
    "\n",
    "def extrai_info_de_url(url):\n",
    "    \n",
    "    response = requests.get(url, verify=False)\n",
    "\n",
    "    if response.status_code == 200:\n",
    "\n",
    "        if 'qrcodes' not in os.listdir():\n",
    "            os.mkdir('qrcodes')\n",
    "\n",
    "        # Parse do conteúdo HTML\n",
    "        soup = BeautifulSoup(response.content, 'html.parser')\n",
    "\n",
    "        # Obter todas as disciplinas da tabela, os elementos <tr> dentro de <table>\n",
    "        table = soup.find('table')\n",
    "        rows = table.find_all('tr')\n",
    "\n",
    "        # Extrair da tabela cada linha <tr> com dados <td> de cada disciplina \n",
    "        for row in rows:\n",
    "            columns = row.find_all('td')\n",
    "\n",
    "            if columns:\n",
    "                nome_ficheiro = columns[0].get_text(strip=True)\n",
    "                url_para_qrcode = columns[1].get_text(strip=True)\n",
    "                \n",
    "                gera_qrcode(url_para_qrcode, nome_ficheiro + '.png')\n",
    "\n",
    "    else:\n",
    "        print('Falha ao recuperar a página.')"
   ]
  },
  {
   "cell_type": "code",
   "execution_count": null,
   "id": "d6c18ce9",
   "metadata": {},
   "outputs": [],
   "source": [
    "url = 'https://deisi.ulusofona.pt/inqueritos/admin/disc'\n",
    "\n",
    "extrai_info_de_url(url)"
   ]
  }
 ],
 "metadata": {
  "kernelspec": {
   "display_name": "Python 3",
   "language": "python",
   "name": "python3"
  },
  "language_info": {
   "codemirror_mode": {
    "name": "ipython",
    "version": 3
   },
   "file_extension": ".py",
   "mimetype": "text/x-python",
   "name": "python",
   "nbconvert_exporter": "python",
   "pygments_lexer": "ipython3",
   "version": "3.11.9"
  }
 },
 "nbformat": 4,
 "nbformat_minor": 5
}
